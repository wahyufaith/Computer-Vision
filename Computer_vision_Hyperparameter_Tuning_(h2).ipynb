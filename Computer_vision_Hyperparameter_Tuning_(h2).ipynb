{
  "nbformat": 4,
  "nbformat_minor": 0,
  "metadata": {
    "colab": {
      "name": "Computer_vision_Hyperparameter_Tuning (h2).ipynb",
      "provenance": [],
      "authorship_tag": "ABX9TyPTl511WJ2f7jiATpE6mKYm",
      "include_colab_link": true
    },
    "kernelspec": {
      "name": "python3",
      "display_name": "Python 3"
    },
    "language_info": {
      "name": "python"
    }
  },
  "cells": [
    {
      "cell_type": "markdown",
      "metadata": {
        "id": "view-in-github",
        "colab_type": "text"
      },
      "source": [
        "<a href=\"https://colab.research.google.com/github/wahyufaith/Computer-Vision/blob/main/Computer_vision_Hyperparameter_Tuning_(h2).ipynb\" target=\"_parent\"><img src=\"https://colab.research.google.com/assets/colab-badge.svg\" alt=\"Open In Colab\"/></a>"
      ]
    },
    {
      "cell_type": "code",
      "metadata": {
        "id": "7A4qHUKGLQBk"
      },
      "source": [
        ""
      ],
      "execution_count": null,
      "outputs": []
    },
    {
      "cell_type": "markdown",
      "metadata": {
        "id": "0DwtgxutmNf6"
      },
      "source": [
        "# **Wahyu Pebrianto**"
      ]
    },
    {
      "cell_type": "code",
      "metadata": {
        "id": "6yPeJ93QLRAy"
      },
      "source": [
        "import tensorflow as tf\n",
        "import numpy as np\n",
        "import matplotlib.pyplot as plt"
      ],
      "execution_count": null,
      "outputs": []
    },
    {
      "cell_type": "code",
      "metadata": {
        "colab": {
          "base_uri": "https://localhost:8080/"
        },
        "id": "M9wggas-LTTo",
        "outputId": "50a3e9c6-1a68-45d0-8055-1cc4c3d18e6f"
      },
      "source": [
        "fashion_mnist = tf.keras.datasets.fashion_mnist\n",
        "(train_images, train_labels), (test_images, test_labels) = fashion_mnist.load_data()"
      ],
      "execution_count": null,
      "outputs": [
        {
          "output_type": "stream",
          "text": [
            "Downloading data from https://storage.googleapis.com/tensorflow/tf-keras-datasets/train-labels-idx1-ubyte.gz\n",
            "32768/29515 [=================================] - 0s 0us/step\n",
            "Downloading data from https://storage.googleapis.com/tensorflow/tf-keras-datasets/train-images-idx3-ubyte.gz\n",
            "26427392/26421880 [==============================] - 0s 0us/step\n",
            "Downloading data from https://storage.googleapis.com/tensorflow/tf-keras-datasets/t10k-labels-idx1-ubyte.gz\n",
            "8192/5148 [===============================================] - 0s 0us/step\n",
            "Downloading data from https://storage.googleapis.com/tensorflow/tf-keras-datasets/t10k-images-idx3-ubyte.gz\n",
            "4423680/4422102 [==============================] - 0s 0us/step\n"
          ],
          "name": "stdout"
        }
      ]
    },
    {
      "cell_type": "code",
      "metadata": {
        "id": "nwaUAf_PLTWX"
      },
      "source": [
        "class_names = ['T-shirt/top', 'Trouser', 'Pullover', 'Dress', 'Coat',\n",
        "               'Sandal', 'Shirt', 'Sneaker', 'Bag', 'Ankle boot']\n",
        "\n",
        "train_images = train_images/255\n",
        "test_images  = test_images/255"
      ],
      "execution_count": null,
      "outputs": []
    },
    {
      "cell_type": "markdown",
      "metadata": {
        "id": "rbSxCAisN_-6"
      },
      "source": [
        "**hyperparameter tuning**"
      ]
    },
    {
      "cell_type": "code",
      "metadata": {
        "id": "a__3gQmxLTZH"
      },
      "source": [
        "from tensorflow import keras\n",
        "#!pip install -q -U keras-tuner\n",
        "import keras_tuner as kt"
      ],
      "execution_count": null,
      "outputs": []
    },
    {
      "cell_type": "markdown",
      "metadata": {
        "id": "SSxAEk_wObx2"
      },
      "source": [
        "**1. membuat fungsi model untuk menentukan model klasifikasi image**"
      ]
    },
    {
      "cell_type": "code",
      "metadata": {
        "id": "QP0SXetoSaJx"
      },
      "source": [
        "def model_builder(hp):\n",
        "  model = keras.Sequential()\n",
        "  model.add(keras.layers.Flatten(input_shape=(28, 28)))\n",
        "  \n",
        "  #Sesuaikan jumlah unit di layer Dense pertama\n",
        "  #Pilih nilai optimal antara 32-512\n",
        "  hp_units = hp.Int('units', min_value=32, max_value=512, step=32)\n",
        "  model.add(keras.layers.Dense(units=hp_units, activation='relu'))\n",
        "  hp_units2 = hp.Int('units', min_value=32, max_value=512, step=32)\n",
        "  model.add(keras.layers.Dense(units=hp_units2, activation='relu'))\n",
        "  hp_units3 = hp.Int('units', min_value=32, max_value=512, step=32)\n",
        "  model.add(keras.layers.Dense(units=hp_units3, activation='relu'))\n",
        "  model.add(keras.layers.Dense(10))\n",
        "\n",
        "  #Sesuaikan Learning rate untuk pengoptimal\n",
        "  #Pilih nilai optimal dari 0,01, 0,001, atau 0,0001\n",
        "  hp_learning_rate = hp.Choice('learning_rate', values=[1e-2, 1e-3, 1e-4])\n",
        "\n",
        "  model.compile(optimizer=keras.optimizers.Adam(learning_rate=hp_learning_rate),\n",
        "                loss=keras.losses.SparseCategoricalCrossentropy(from_logits=True),\n",
        "                metrics=['accuracy'])\n",
        "  \n",
        "  return model\n"
      ],
      "execution_count": null,
      "outputs": []
    },
    {
      "cell_type": "markdown",
      "metadata": {
        "id": "VHAxxaa4QCst"
      },
      "source": [
        "**2. Instansiasi tuner dan lakukan hypertuning**"
      ]
    },
    {
      "cell_type": "code",
      "metadata": {
        "id": "UtALs4_ALTfe"
      },
      "source": [
        "tuner = kt.Hyperband(model_builder,\n",
        "                     objective='val_accuracy',\n",
        "                     max_epochs=10,\n",
        "                     factor=3,\n",
        "                     overwrite=True,\n",
        "                     directory='/content/sample_data',\n",
        "                     project_name='intro_to_kt')"
      ],
      "execution_count": null,
      "outputs": []
    },
    {
      "cell_type": "markdown",
      "metadata": {
        "id": "Xw5R0Qf1TiEh"
      },
      "source": [
        "**3. Buat callback untuk menghentikan training lebih awal setelah mencapai nilai tertentu dalam loss validation**\n",
        "\n",
        "proses ini bisa ditambahkan maupaun tidak"
      ]
    },
    {
      "cell_type": "code",
      "metadata": {
        "id": "RUe69GBWLTh6"
      },
      "source": [
        "stop_early = tf.keras.callbacks.EarlyStopping(monitor='val_loss', patience=5)"
      ],
      "execution_count": null,
      "outputs": []
    },
    {
      "cell_type": "markdown",
      "metadata": {
        "id": "Fi4_8is3ULlu"
      },
      "source": [
        "**4. Jalankan pencarian hyperparameter (mirip seperti tf.keras.model.fit).**"
      ]
    },
    {
      "cell_type": "code",
      "metadata": {
        "colab": {
          "base_uri": "https://localhost:8080/"
        },
        "id": "THGkioOoLTku",
        "outputId": "4b7e62fe-9f42-4ddf-9c8c-ffcb03db623b"
      },
      "source": [
        "tuner.search(train_images,\n",
        "             train_labels,\n",
        "             epochs=50,\n",
        "             validation_split=0.2,\n",
        "             callbacks=[stop_early])\n",
        "\n",
        "#melihat nilai hyperparameter optimal yang ditemukan oleh pencarian\n",
        "best_hps=tuner.get_best_hyperparameters(num_trials=1)[0]\n",
        "\n",
        "\n",
        "print(f\"\"\"\n",
        "The hyperparameter search is complete. The optimal number of units in the first densely-connected\n",
        "layer is {best_hps.get('units')} and the optimal learning rate for the optimizer\n",
        "is {best_hps.get('learning_rate')}.\n",
        "\"\"\")"
      ],
      "execution_count": null,
      "outputs": [
        {
          "output_type": "stream",
          "text": [
            "Trial 30 Complete [00h 00m 53s]\n",
            "val_accuracy: 0.8202499747276306\n",
            "\n",
            "Best val_accuracy So Far: 0.878166675567627\n",
            "Total elapsed time: 00h 15m 39s\n",
            "INFO:tensorflow:Oracle triggered exit\n",
            "\n",
            "The hyperparameter search is complete. The optimal number of units in the first densely-connected\n",
            "layer is 384 and the optimal learning rate for the optimizer\n",
            "is 0.001.\n",
            "\n"
          ],
          "name": "stdout"
        }
      ]
    },
    {
      "cell_type": "markdown",
      "metadata": {
        "id": "M3w8wsOraF4-"
      },
      "source": [
        "**5. setelah mendapatkan hyperparameter terbaik lanjutkan melatih model**\n",
        "\n",
        "Temukan jumlah epoch yang optimal untuk melatih model dengan hyperparameter yang diperoleh dari pencarian."
      ]
    },
    {
      "cell_type": "code",
      "metadata": {
        "colab": {
          "base_uri": "https://localhost:8080/"
        },
        "id": "dU4e1TAALTnR",
        "outputId": "5c034066-7fe3-4269-8eb2-3b8cb17b1793"
      },
      "source": [
        "model = tuner.hypermodel.build(best_hps)\n",
        "history = model.fit(train_images,\n",
        "                    train_labels,\n",
        "                    epochs=50,\n",
        "                    validation_split=0.2)\n",
        "\n",
        "val_acc_per_epoch = history.history['val_accuracy']\n",
        "best_epoch = val_acc_per_epoch.index(max(val_acc_per_epoch)) +1\n",
        "print('Best epoch: %d' % (best_epoch,))"
      ],
      "execution_count": null,
      "outputs": [
        {
          "output_type": "stream",
          "text": [
            "Epoch 1/50\n",
            "1500/1500 [==============================] - 8s 5ms/step - loss: 0.7493 - accuracy: 0.7177 - val_loss: 0.5555 - val_accuracy: 0.7960\n",
            "Epoch 2/50\n",
            "1500/1500 [==============================] - 8s 5ms/step - loss: 0.4970 - accuracy: 0.8175 - val_loss: 0.5030 - val_accuracy: 0.8177\n",
            "Epoch 3/50\n",
            "1500/1500 [==============================] - 7s 5ms/step - loss: 0.4362 - accuracy: 0.8376 - val_loss: 0.4416 - val_accuracy: 0.8350\n",
            "Epoch 4/50\n",
            "1500/1500 [==============================] - 7s 5ms/step - loss: 0.3998 - accuracy: 0.8535 - val_loss: 0.3951 - val_accuracy: 0.8562\n",
            "Epoch 5/50\n",
            "1500/1500 [==============================] - 7s 5ms/step - loss: 0.3730 - accuracy: 0.8614 - val_loss: 0.3696 - val_accuracy: 0.8648\n",
            "Epoch 6/50\n",
            "1500/1500 [==============================] - 7s 5ms/step - loss: 0.3568 - accuracy: 0.8675 - val_loss: 0.3673 - val_accuracy: 0.8641\n",
            "Epoch 7/50\n",
            "1500/1500 [==============================] - 7s 5ms/step - loss: 0.3373 - accuracy: 0.8745 - val_loss: 0.3756 - val_accuracy: 0.8652\n",
            "Epoch 8/50\n",
            "1500/1500 [==============================] - 7s 5ms/step - loss: 0.3251 - accuracy: 0.8792 - val_loss: 0.3424 - val_accuracy: 0.8760\n",
            "Epoch 9/50\n",
            "1500/1500 [==============================] - 7s 5ms/step - loss: 0.3136 - accuracy: 0.8836 - val_loss: 0.3547 - val_accuracy: 0.8681\n",
            "Epoch 10/50\n",
            "1500/1500 [==============================] - 7s 5ms/step - loss: 0.3059 - accuracy: 0.8852 - val_loss: 0.3415 - val_accuracy: 0.8764\n",
            "Epoch 11/50\n",
            "1500/1500 [==============================] - 7s 5ms/step - loss: 0.2940 - accuracy: 0.8913 - val_loss: 0.3234 - val_accuracy: 0.8815\n",
            "Epoch 12/50\n",
            "1500/1500 [==============================] - 7s 5ms/step - loss: 0.2866 - accuracy: 0.8924 - val_loss: 0.3570 - val_accuracy: 0.8705\n",
            "Epoch 13/50\n",
            "1500/1500 [==============================] - 7s 5ms/step - loss: 0.2775 - accuracy: 0.8953 - val_loss: 0.3206 - val_accuracy: 0.8843\n",
            "Epoch 14/50\n",
            "1500/1500 [==============================] - 7s 5ms/step - loss: 0.2708 - accuracy: 0.8983 - val_loss: 0.3233 - val_accuracy: 0.8814\n",
            "Epoch 15/50\n",
            "1500/1500 [==============================] - 7s 5ms/step - loss: 0.2628 - accuracy: 0.9018 - val_loss: 0.3179 - val_accuracy: 0.8863\n",
            "Epoch 16/50\n",
            "1500/1500 [==============================] - 7s 5ms/step - loss: 0.2559 - accuracy: 0.9040 - val_loss: 0.3251 - val_accuracy: 0.8819\n",
            "Epoch 17/50\n",
            "1500/1500 [==============================] - 7s 5ms/step - loss: 0.2519 - accuracy: 0.9054 - val_loss: 0.3096 - val_accuracy: 0.8872\n",
            "Epoch 18/50\n",
            "1500/1500 [==============================] - 8s 5ms/step - loss: 0.2436 - accuracy: 0.9068 - val_loss: 0.3114 - val_accuracy: 0.8896\n",
            "Epoch 19/50\n",
            "1500/1500 [==============================] - 7s 5ms/step - loss: 0.2372 - accuracy: 0.9101 - val_loss: 0.3124 - val_accuracy: 0.8896\n",
            "Epoch 20/50\n",
            "1500/1500 [==============================] - 7s 4ms/step - loss: 0.2316 - accuracy: 0.9125 - val_loss: 0.3216 - val_accuracy: 0.8836\n",
            "Epoch 21/50\n",
            "1500/1500 [==============================] - 7s 5ms/step - loss: 0.2279 - accuracy: 0.9130 - val_loss: 0.3253 - val_accuracy: 0.8850\n",
            "Epoch 22/50\n",
            "1500/1500 [==============================] - 7s 5ms/step - loss: 0.2210 - accuracy: 0.9159 - val_loss: 0.3383 - val_accuracy: 0.8826\n",
            "Epoch 23/50\n",
            "1500/1500 [==============================] - 7s 5ms/step - loss: 0.2150 - accuracy: 0.9179 - val_loss: 0.3270 - val_accuracy: 0.8892\n",
            "Epoch 24/50\n",
            "1500/1500 [==============================] - 7s 5ms/step - loss: 0.2094 - accuracy: 0.9215 - val_loss: 0.3163 - val_accuracy: 0.8859\n",
            "Epoch 25/50\n",
            "1500/1500 [==============================] - 7s 4ms/step - loss: 0.2046 - accuracy: 0.9221 - val_loss: 0.3136 - val_accuracy: 0.8903\n",
            "Epoch 26/50\n",
            "1500/1500 [==============================] - 7s 5ms/step - loss: 0.2000 - accuracy: 0.9241 - val_loss: 0.3128 - val_accuracy: 0.8917\n",
            "Epoch 27/50\n",
            "1500/1500 [==============================] - 7s 5ms/step - loss: 0.1948 - accuracy: 0.9263 - val_loss: 0.3231 - val_accuracy: 0.8920\n",
            "Epoch 28/50\n",
            "1500/1500 [==============================] - 7s 5ms/step - loss: 0.1910 - accuracy: 0.9266 - val_loss: 0.3231 - val_accuracy: 0.8923\n",
            "Epoch 29/50\n",
            "1500/1500 [==============================] - 7s 5ms/step - loss: 0.1865 - accuracy: 0.9294 - val_loss: 0.3326 - val_accuracy: 0.8880\n",
            "Epoch 30/50\n",
            "1500/1500 [==============================] - 7s 5ms/step - loss: 0.1843 - accuracy: 0.9298 - val_loss: 0.3346 - val_accuracy: 0.8919\n",
            "Epoch 31/50\n",
            "1500/1500 [==============================] - 7s 5ms/step - loss: 0.1787 - accuracy: 0.9317 - val_loss: 0.3277 - val_accuracy: 0.8908\n",
            "Epoch 32/50\n",
            "1500/1500 [==============================] - 7s 5ms/step - loss: 0.1729 - accuracy: 0.9346 - val_loss: 0.3363 - val_accuracy: 0.8880\n",
            "Epoch 33/50\n",
            "1500/1500 [==============================] - 7s 5ms/step - loss: 0.1679 - accuracy: 0.9356 - val_loss: 0.3250 - val_accuracy: 0.8941\n",
            "Epoch 34/50\n",
            "1500/1500 [==============================] - 7s 5ms/step - loss: 0.1659 - accuracy: 0.9364 - val_loss: 0.3244 - val_accuracy: 0.8954\n",
            "Epoch 35/50\n",
            "1500/1500 [==============================] - 7s 5ms/step - loss: 0.1610 - accuracy: 0.9383 - val_loss: 0.3250 - val_accuracy: 0.8940\n",
            "Epoch 36/50\n",
            "1500/1500 [==============================] - 7s 5ms/step - loss: 0.1559 - accuracy: 0.9396 - val_loss: 0.3216 - val_accuracy: 0.8963\n",
            "Epoch 37/50\n",
            "1500/1500 [==============================] - 7s 5ms/step - loss: 0.1531 - accuracy: 0.9419 - val_loss: 0.3677 - val_accuracy: 0.8867\n",
            "Epoch 38/50\n",
            "1500/1500 [==============================] - 7s 5ms/step - loss: 0.1514 - accuracy: 0.9414 - val_loss: 0.3399 - val_accuracy: 0.8946\n",
            "Epoch 39/50\n",
            "1500/1500 [==============================] - 7s 4ms/step - loss: 0.1469 - accuracy: 0.9446 - val_loss: 0.3797 - val_accuracy: 0.8875\n",
            "Epoch 40/50\n",
            "1500/1500 [==============================] - 7s 5ms/step - loss: 0.1430 - accuracy: 0.9456 - val_loss: 0.3445 - val_accuracy: 0.8957\n",
            "Epoch 41/50\n",
            "1500/1500 [==============================] - 7s 5ms/step - loss: 0.1384 - accuracy: 0.9468 - val_loss: 0.3767 - val_accuracy: 0.8917\n",
            "Epoch 42/50\n",
            "1500/1500 [==============================] - 7s 5ms/step - loss: 0.1338 - accuracy: 0.9486 - val_loss: 0.3703 - val_accuracy: 0.8923\n",
            "Epoch 43/50\n",
            "1500/1500 [==============================] - 7s 5ms/step - loss: 0.1311 - accuracy: 0.9492 - val_loss: 0.3663 - val_accuracy: 0.8944\n",
            "Epoch 44/50\n",
            "1500/1500 [==============================] - 7s 4ms/step - loss: 0.1299 - accuracy: 0.9512 - val_loss: 0.3630 - val_accuracy: 0.8928\n",
            "Epoch 45/50\n",
            "1500/1500 [==============================] - 7s 5ms/step - loss: 0.1239 - accuracy: 0.9518 - val_loss: 0.3852 - val_accuracy: 0.8942\n",
            "Epoch 46/50\n",
            "1500/1500 [==============================] - 7s 5ms/step - loss: 0.1252 - accuracy: 0.9513 - val_loss: 0.3668 - val_accuracy: 0.8972\n",
            "Epoch 47/50\n",
            "1500/1500 [==============================] - 7s 5ms/step - loss: 0.1167 - accuracy: 0.9553 - val_loss: 0.4485 - val_accuracy: 0.8857\n",
            "Epoch 48/50\n",
            "1500/1500 [==============================] - 7s 5ms/step - loss: 0.1187 - accuracy: 0.9532 - val_loss: 0.3850 - val_accuracy: 0.8928\n",
            "Epoch 49/50\n",
            "1500/1500 [==============================] - 7s 4ms/step - loss: 0.1124 - accuracy: 0.9563 - val_loss: 0.3846 - val_accuracy: 0.8947\n",
            "Epoch 50/50\n",
            "1500/1500 [==============================] - 7s 5ms/step - loss: 0.1071 - accuracy: 0.9581 - val_loss: 0.4332 - val_accuracy: 0.8932\n",
            "Best epoch: 46\n"
          ],
          "name": "stdout"
        }
      ]
    },
    {
      "cell_type": "markdown",
      "metadata": {
        "id": "6POWbozPnGTs"
      },
      "source": [
        "**6. Training modelnya**\n",
        "\n",
        "Temukan jumlah epoch yang optimal untuk melatih model dengan hyperparameter yang diperoleh dari pencarian."
      ]
    },
    {
      "cell_type": "code",
      "metadata": {
        "colab": {
          "base_uri": "https://localhost:8080/"
        },
        "id": "kKvyYyc9LTsh",
        "outputId": "a091e23e-b405-45e2-a963-3e2daf45cb0a"
      },
      "source": [
        "hypermodel = tuner.hypermodel.build(best_hps)\n",
        "\n",
        "# Retrain the model\n",
        "history= hypermodel.fit(train_images,\n",
        "               train_labels,\n",
        "               epochs=best_epoch,\n",
        "               validation_split=0.2)"
      ],
      "execution_count": null,
      "outputs": [
        {
          "output_type": "stream",
          "text": [
            "Epoch 1/46\n",
            "1500/1500 [==============================] - 8s 5ms/step - loss: 0.7520 - accuracy: 0.7176 - val_loss: 0.5235 - val_accuracy: 0.8132\n",
            "Epoch 2/46\n",
            "1500/1500 [==============================] - 7s 5ms/step - loss: 0.4955 - accuracy: 0.8177 - val_loss: 0.4556 - val_accuracy: 0.8316\n",
            "Epoch 3/46\n",
            "1500/1500 [==============================] - 7s 5ms/step - loss: 0.4304 - accuracy: 0.8434 - val_loss: 0.4263 - val_accuracy: 0.8422\n",
            "Epoch 4/46\n",
            "1500/1500 [==============================] - 7s 5ms/step - loss: 0.3939 - accuracy: 0.8559 - val_loss: 0.4066 - val_accuracy: 0.8493\n",
            "Epoch 5/46\n",
            "1500/1500 [==============================] - 7s 5ms/step - loss: 0.3710 - accuracy: 0.8641 - val_loss: 0.3841 - val_accuracy: 0.8607\n",
            "Epoch 6/46\n",
            "1500/1500 [==============================] - 7s 5ms/step - loss: 0.3525 - accuracy: 0.8700 - val_loss: 0.3603 - val_accuracy: 0.8692\n",
            "Epoch 7/46\n",
            "1500/1500 [==============================] - 7s 5ms/step - loss: 0.3339 - accuracy: 0.8769 - val_loss: 0.3390 - val_accuracy: 0.8768\n",
            "Epoch 8/46\n",
            "1500/1500 [==============================] - 7s 5ms/step - loss: 0.3232 - accuracy: 0.8793 - val_loss: 0.3435 - val_accuracy: 0.8726\n",
            "Epoch 9/46\n",
            "1500/1500 [==============================] - 7s 5ms/step - loss: 0.3112 - accuracy: 0.8843 - val_loss: 0.3453 - val_accuracy: 0.8751\n",
            "Epoch 10/46\n",
            "1500/1500 [==============================] - 7s 5ms/step - loss: 0.3000 - accuracy: 0.8882 - val_loss: 0.3416 - val_accuracy: 0.8763\n",
            "Epoch 11/46\n",
            "1500/1500 [==============================] - 7s 5ms/step - loss: 0.2916 - accuracy: 0.8901 - val_loss: 0.3637 - val_accuracy: 0.8680\n",
            "Epoch 12/46\n",
            "1500/1500 [==============================] - 7s 5ms/step - loss: 0.2827 - accuracy: 0.8938 - val_loss: 0.3306 - val_accuracy: 0.8799\n",
            "Epoch 13/46\n",
            "1500/1500 [==============================] - 7s 5ms/step - loss: 0.2750 - accuracy: 0.8974 - val_loss: 0.3453 - val_accuracy: 0.8761\n",
            "Epoch 14/46\n",
            "1500/1500 [==============================] - 7s 5ms/step - loss: 0.2676 - accuracy: 0.8993 - val_loss: 0.3107 - val_accuracy: 0.8870\n",
            "Epoch 15/46\n",
            "1500/1500 [==============================] - 7s 5ms/step - loss: 0.2607 - accuracy: 0.9015 - val_loss: 0.3149 - val_accuracy: 0.8842\n",
            "Epoch 16/46\n",
            "1500/1500 [==============================] - 7s 5ms/step - loss: 0.2527 - accuracy: 0.9054 - val_loss: 0.3337 - val_accuracy: 0.8830\n",
            "Epoch 17/46\n",
            "1500/1500 [==============================] - 7s 5ms/step - loss: 0.2463 - accuracy: 0.9072 - val_loss: 0.3119 - val_accuracy: 0.8873\n",
            "Epoch 18/46\n",
            "1500/1500 [==============================] - 7s 5ms/step - loss: 0.2415 - accuracy: 0.9086 - val_loss: 0.3133 - val_accuracy: 0.8910\n",
            "Epoch 19/46\n",
            "1500/1500 [==============================] - 7s 5ms/step - loss: 0.2350 - accuracy: 0.9111 - val_loss: 0.3030 - val_accuracy: 0.8913\n",
            "Epoch 20/46\n",
            "1500/1500 [==============================] - 7s 5ms/step - loss: 0.2282 - accuracy: 0.9141 - val_loss: 0.3088 - val_accuracy: 0.8881\n",
            "Epoch 21/46\n",
            "1500/1500 [==============================] - 7s 5ms/step - loss: 0.2218 - accuracy: 0.9150 - val_loss: 0.3402 - val_accuracy: 0.8832\n",
            "Epoch 22/46\n",
            "1500/1500 [==============================] - 7s 5ms/step - loss: 0.2150 - accuracy: 0.9181 - val_loss: 0.3092 - val_accuracy: 0.8921\n",
            "Epoch 23/46\n",
            "1500/1500 [==============================] - 7s 5ms/step - loss: 0.2095 - accuracy: 0.9200 - val_loss: 0.3119 - val_accuracy: 0.8905\n",
            "Epoch 24/46\n",
            "1500/1500 [==============================] - 7s 5ms/step - loss: 0.2077 - accuracy: 0.9207 - val_loss: 0.3304 - val_accuracy: 0.8888\n",
            "Epoch 25/46\n",
            "1500/1500 [==============================] - 7s 5ms/step - loss: 0.2004 - accuracy: 0.9237 - val_loss: 0.3225 - val_accuracy: 0.8896\n",
            "Epoch 26/46\n",
            "1500/1500 [==============================] - 7s 5ms/step - loss: 0.1972 - accuracy: 0.9246 - val_loss: 0.3169 - val_accuracy: 0.8945\n",
            "Epoch 27/46\n",
            "1500/1500 [==============================] - 7s 5ms/step - loss: 0.1906 - accuracy: 0.9275 - val_loss: 0.3166 - val_accuracy: 0.8977\n",
            "Epoch 28/46\n",
            "1500/1500 [==============================] - 8s 5ms/step - loss: 0.1864 - accuracy: 0.9295 - val_loss: 0.3296 - val_accuracy: 0.8894\n",
            "Epoch 29/46\n",
            "1500/1500 [==============================] - 7s 5ms/step - loss: 0.1835 - accuracy: 0.9292 - val_loss: 0.3175 - val_accuracy: 0.8938\n",
            "Epoch 30/46\n",
            "1500/1500 [==============================] - 7s 5ms/step - loss: 0.1775 - accuracy: 0.9325 - val_loss: 0.3742 - val_accuracy: 0.8802\n",
            "Epoch 31/46\n",
            "1500/1500 [==============================] - 7s 5ms/step - loss: 0.1756 - accuracy: 0.9335 - val_loss: 0.3420 - val_accuracy: 0.8887\n",
            "Epoch 32/46\n",
            "1500/1500 [==============================] - 7s 5ms/step - loss: 0.1699 - accuracy: 0.9358 - val_loss: 0.3299 - val_accuracy: 0.8901\n",
            "Epoch 33/46\n",
            "1500/1500 [==============================] - 7s 5ms/step - loss: 0.1626 - accuracy: 0.9381 - val_loss: 0.3460 - val_accuracy: 0.8922\n",
            "Epoch 34/46\n",
            "1500/1500 [==============================] - 7s 5ms/step - loss: 0.1616 - accuracy: 0.9386 - val_loss: 0.3239 - val_accuracy: 0.8949\n",
            "Epoch 35/46\n",
            "1500/1500 [==============================] - 7s 5ms/step - loss: 0.1553 - accuracy: 0.9395 - val_loss: 0.3743 - val_accuracy: 0.8885\n",
            "Epoch 36/46\n",
            "1500/1500 [==============================] - 7s 5ms/step - loss: 0.1536 - accuracy: 0.9420 - val_loss: 0.3519 - val_accuracy: 0.8938\n",
            "Epoch 37/46\n",
            "1500/1500 [==============================] - 7s 5ms/step - loss: 0.1485 - accuracy: 0.9438 - val_loss: 0.3724 - val_accuracy: 0.8896\n",
            "Epoch 38/46\n",
            "1500/1500 [==============================] - 7s 5ms/step - loss: 0.1452 - accuracy: 0.9444 - val_loss: 0.4096 - val_accuracy: 0.8850\n",
            "Epoch 39/46\n",
            "1500/1500 [==============================] - 7s 5ms/step - loss: 0.1410 - accuracy: 0.9465 - val_loss: 0.3778 - val_accuracy: 0.8928\n",
            "Epoch 40/46\n",
            "1500/1500 [==============================] - 7s 5ms/step - loss: 0.1374 - accuracy: 0.9482 - val_loss: 0.3845 - val_accuracy: 0.8938\n",
            "Epoch 41/46\n",
            "1500/1500 [==============================] - 7s 5ms/step - loss: 0.1362 - accuracy: 0.9477 - val_loss: 0.3648 - val_accuracy: 0.8974\n",
            "Epoch 42/46\n",
            "1500/1500 [==============================] - 7s 5ms/step - loss: 0.1294 - accuracy: 0.9509 - val_loss: 0.3831 - val_accuracy: 0.8917\n",
            "Epoch 43/46\n",
            "1500/1500 [==============================] - 7s 5ms/step - loss: 0.1273 - accuracy: 0.9507 - val_loss: 0.3652 - val_accuracy: 0.8937\n",
            "Epoch 44/46\n",
            "1500/1500 [==============================] - 7s 5ms/step - loss: 0.1248 - accuracy: 0.9527 - val_loss: 0.4056 - val_accuracy: 0.8917\n",
            "Epoch 45/46\n",
            "1500/1500 [==============================] - 7s 5ms/step - loss: 0.1196 - accuracy: 0.9540 - val_loss: 0.3740 - val_accuracy: 0.8983\n",
            "Epoch 46/46\n",
            "1500/1500 [==============================] - 7s 5ms/step - loss: 0.1168 - accuracy: 0.9557 - val_loss: 0.3878 - val_accuracy: 0.8922\n"
          ],
          "name": "stdout"
        }
      ]
    },
    {
      "cell_type": "code",
      "metadata": {
        "colab": {
          "base_uri": "https://localhost:8080/"
        },
        "id": "NfhJwjnfLTvW",
        "outputId": "beb34dad-d28b-43cc-df4d-66eb5fe33ebb"
      },
      "source": [
        "hypermodel.summary()"
      ],
      "execution_count": null,
      "outputs": [
        {
          "output_type": "stream",
          "text": [
            "Model: \"sequential\"\n",
            "_________________________________________________________________\n",
            "Layer (type)                 Output Shape              Param #   \n",
            "=================================================================\n",
            "flatten (Flatten)            (None, 784)               0         \n",
            "_________________________________________________________________\n",
            "dense (Dense)                (None, 384)               301440    \n",
            "_________________________________________________________________\n",
            "dense_1 (Dense)              (None, 384)               147840    \n",
            "_________________________________________________________________\n",
            "dense_2 (Dense)              (None, 384)               147840    \n",
            "_________________________________________________________________\n",
            "dense_3 (Dense)              (None, 10)                3850      \n",
            "=================================================================\n",
            "Total params: 600,970\n",
            "Trainable params: 600,970\n",
            "Non-trainable params: 0\n",
            "_________________________________________________________________\n"
          ],
          "name": "stdout"
        }
      ]
    },
    {
      "cell_type": "code",
      "metadata": {
        "colab": {
          "base_uri": "https://localhost:8080/",
          "height": 337
        },
        "id": "gMvcaDe9tesP",
        "outputId": "aaa9efcd-53e9-49e0-a17e-55b925f1f81e"
      },
      "source": [
        "import matplotlib.pyplot as plt\n",
        "plt.style.use('ggplot')\n",
        "\n",
        "def plot_history(history):\n",
        "    acc = history.history['accuracy']\n",
        "    val_acc = history.history['val_accuracy']\n",
        "    loss = history.history['loss']\n",
        "    val_loss = history.history['val_loss']\n",
        "    x = range(1, len(acc) + 1)\n",
        "\n",
        "    plt.figure(figsize=(12, 5))\n",
        "    plt.subplot(1, 2, 1)\n",
        "    plt.plot(x, acc, 'b', label='Training acc')\n",
        "    plt.plot(x, val_acc, 'r', label='Validation acc')\n",
        "    plt.title('model accuracy')\n",
        "    plt.legend()\n",
        "    plt.subplot(1, 2, 2)\n",
        "    plt.plot(x, loss, 'b', label='Training loss')\n",
        "    plt.plot(x, val_loss, 'r', label='Validation loss')\n",
        "    plt.title('model loss')\n",
        "    plt.legend()\n",
        "  \n",
        "plot_history(history)"
      ],
      "execution_count": null,
      "outputs": [
        {
          "output_type": "display_data",
          "data": {
            "image/png": "[encoded data removed]",
            "text/plain": [
              "<Figure size 864x360 with 2 Axes>"
            ]
          },
          "metadata": {
            "tags": []
          }
        }
      ]
    }
  ]
}